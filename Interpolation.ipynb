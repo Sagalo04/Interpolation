{
  "nbformat": 4,
  "nbformat_minor": 0,
  "metadata": {
    "colab": {
      "name": "Interpolation.ipynb",
      "version": "0.3.2",
      "provenance": [],
      "include_colab_link": true
    },
    "kernelspec": {
      "name": "python3",
      "display_name": "Python 3"
    }
  },
  "cells": [
    {
      "cell_type": "markdown",
      "metadata": {
        "id": "view-in-github",
        "colab_type": "text"
      },
      "source": [
        "<a href=\"https://colab.research.google.com/github/Sagalo04/Interpolation/blob/master/Interpolation.ipynb\" target=\"_parent\"><img src=\"https://colab.research.google.com/assets/colab-badge.svg\" alt=\"Open In Colab\"/></a>"
      ]
    },
    {
      "cell_type": "code",
      "metadata": {
        "id": "5T4dqyBFag-p",
        "colab_type": "code",
        "colab": {
          "base_uri": "https://localhost:8080/",
          "height": 34
        },
        "outputId": "30a6ac3a-2879-4ff2-f67b-34d929470e7a"
      },
      "source": [
        "from google.colab import drive\n",
        "drive.mount('/content/drive')"
      ],
      "execution_count": 7,
      "outputs": [
        {
          "output_type": "stream",
          "text": [
            "Drive already mounted at /content/drive; to attempt to forcibly remount, call drive.mount(\"/content/drive\", force_remount=True).\n"
          ],
          "name": "stdout"
        }
      ]
    },
    {
      "cell_type": "code",
      "metadata": {
        "id": "yMEyX_QsatMJ",
        "colab_type": "code",
        "colab": {
          "base_uri": "https://localhost:8080/",
          "height": 34
        },
        "outputId": "bd986e53-7ba9-42ac-d500-ff730695a723"
      },
      "source": [
        "import numpy as np\n",
        "import matplotlib.pyplot as plt\n",
        "import cv2\n",
        "import os\n",
        "\n",
        "path='/content/drive/My Drive/PDI/Interpolation/'\n",
        "os.chdir(path)\n",
        "!pwd\n",
        "# graficar imagenes estadisticas en el notebook\n",
        "\n",
        "%matplotlib inline"
      ],
      "execution_count": 8,
      "outputs": [
        {
          "output_type": "stream",
          "text": [
            "/content/drive/My Drive/PDI/Interpolation\n"
          ],
          "name": "stdout"
        }
      ]
    },
    {
      "cell_type": "code",
      "metadata": {
        "id": "tyG8YqKxb2qf",
        "colab_type": "code",
        "colab": {}
      },
      "source": [
        "def displayGray3(a,b,c,title1 = \"Original\", title2=\"Edited\", title3=\"Edited\"):\n",
        "  plt.figure(figsize=(3,3))\n",
        "  plt.subplot(131), plt.imshow(a,cmap='gray'), plt.title(title1)\n",
        "  plt.xticks([]), plt.yticks([])\n",
        "  plt.subplot(132), plt.imshow(b,cmap='gray'), plt.title(title2)\n",
        "  plt.xticks([]), plt.yticks([])\n",
        "  plt.subplot(133), plt.imshow(c,cmap='gray'), plt.title(title3)\n",
        "  plt.xticks([]), plt.yticks([])\n",
        "  plt.show()\n",
        "  \n",
        "def displayGray2(a,b,title1 = \"Original\", title2=\"Edited\"):\n",
        "  plt.figure(figsize=(10,10))\n",
        "  plt.subplot(121), plt.imshow(a,cmap='gray'), plt.title(title1)\n",
        "  plt.xticks([]), plt.yticks([])\n",
        "  plt.subplot(122), plt.imshow(b,cmap='gray'), plt.title(title2)\n",
        "  plt.xticks([]), plt.yticks([])\n",
        "  plt.show()\n",
        "  \n",
        "def displayColor3(a,b,c ,title1 = \"Original\", title2=\"Edited\", title3=\"Edited\"):\n",
        "  plt.figure(figsize=(10,10))\n",
        "  plt.subplot(131), plt.imshow(a), plt.title(title1)\n",
        "  plt.xticks([]), plt.yticks([])\n",
        "  plt.subplot(132), plt.imshow(b), plt.title(title2)\n",
        "  plt.xticks([]), plt.yticks([])\n",
        "  plt.subplot(132), plt.imshow(c), plt.title(title3)\n",
        "  plt.xticks([]), plt.yticks([])\n",
        "  plt.show()\n",
        "  \n",
        "def displayColor2(a,b,title1 = \"Original\", title2=\"Edited\"):\n",
        "  plt.figure(figsize=(10,10))\n",
        "  plt.subplot(121), plt.imshow(a), plt.title(title1)\n",
        "  plt.xticks([]), plt.yticks([])\n",
        "  plt.subplot(122), plt.imshow(b), plt.title(title2)\n",
        "  plt.xticks([]), plt.yticks([])\n",
        "  plt.show()\n",
        "  \n",
        "def readRGB(imgPath):\n",
        "  img=cv2.imread(imgPath)\n",
        "  img=cv2.cvtColor(img,cv2.COLOR_BGR2RGB)\n",
        "  return img"
      ],
      "execution_count": 0,
      "outputs": []
    },
    {
      "cell_type": "markdown",
      "metadata": {
        "id": "yTSLJPlxerAf",
        "colab_type": "text"
      },
      "source": [
        "# **Interpolación Nearest Neighbour**#"
      ]
    },
    {
      "cell_type": "code",
      "metadata": {
        "id": "cuM39fNIey98",
        "colab_type": "code",
        "colab": {
          "base_uri": "https://localhost:8080/",
          "height": 329
        },
        "outputId": "f1130daa-6050-4fa5-8f58-a395b74b6b04"
      },
      "source": [
        "imgA = readRGB('apple20x22.jpg')\n",
        "imgM = readRGB('ico.jpg')\n",
        "near_imgA = cv2.resize(imgA,None,fx = 5,fy=5,interpolation = cv2.INTER_NEAREST)\n",
        "near_imgM = cv2.resize(imgM,None,fx = 5,fy=5,interpolation = cv2.INTER_NEAREST)\n",
        "displayColor2(near_imgA,near_imgM,'apple','señora')"
      ],
      "execution_count": 11,
      "outputs": [
        {
          "output_type": "display_data",
          "data": {
            "image/png": "[encoded data removed]",
            "text/plain": [
              "<Figure size 720x720 with 2 Axes>"
            ]
          },
          "metadata": {
            "tags": []
          }
        }
      ]
    }
  ]
}